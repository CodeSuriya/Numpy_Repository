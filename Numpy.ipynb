{
 "cells": [
  {
   "cell_type": "code",
   "execution_count": 1,
   "id": "66092853-37a9-4143-95d7-294cdcd781c1",
   "metadata": {},
   "outputs": [],
   "source": [
    "import numpy as np"
   ]
  },
  {
   "cell_type": "code",
   "execution_count": 2,
   "id": "aa213849-1d12-451d-8e61-117fe2851389",
   "metadata": {},
   "outputs": [],
   "source": [
    "#single dimension\n",
    "\n",
    "arr1 = np.array([1,2,3,4])"
   ]
  },
  {
   "cell_type": "code",
   "execution_count": 3,
   "id": "fa200963-30d7-49db-b9ec-339ddf9d9ff6",
   "metadata": {},
   "outputs": [
    {
     "data": {
      "text/plain": [
       "array([1, 2, 3, 4])"
      ]
     },
     "execution_count": 3,
     "metadata": {},
     "output_type": "execute_result"
    }
   ],
   "source": [
    "arr1"
   ]
  },
  {
   "cell_type": "code",
   "execution_count": 4,
   "id": "4a7e973b-aec5-4f42-a66e-adef98051857",
   "metadata": {},
   "outputs": [],
   "source": [
    "# 2 dimension\n",
    "\n",
    "arr2 = np.array([[1,2,3,4],[5,6,7,8]])"
   ]
  },
  {
   "cell_type": "code",
   "execution_count": 5,
   "id": "da348ce7-4243-4f68-9fbc-5d26dbc8fd25",
   "metadata": {},
   "outputs": [
    {
     "data": {
      "text/plain": [
       "array([[1, 2, 3, 4],\n",
       "       [5, 6, 7, 8]])"
      ]
     },
     "execution_count": 5,
     "metadata": {},
     "output_type": "execute_result"
    }
   ],
   "source": [
    "arr2"
   ]
  },
  {
   "cell_type": "code",
   "execution_count": 6,
   "id": "45f470ee-ecee-4a79-88a0-ae8d49fc5de6",
   "metadata": {},
   "outputs": [],
   "source": [
    "# convert the array into float\n",
    "\n",
    "arr = np.array([1,2,3,4],dtype = float)"
   ]
  },
  {
   "cell_type": "code",
   "execution_count": 7,
   "id": "b085ecc9-0c8f-4af1-954e-5da9b99b5696",
   "metadata": {},
   "outputs": [
    {
     "data": {
      "text/plain": [
       "array([1., 2., 3., 4.])"
      ]
     },
     "execution_count": 7,
     "metadata": {},
     "output_type": "execute_result"
    }
   ],
   "source": [
    "arr"
   ]
  },
  {
   "cell_type": "code",
   "execution_count": 8,
   "id": "2e178155-2539-4aad-93da-65d6e4a7cdfc",
   "metadata": {},
   "outputs": [
    {
     "data": {
      "text/plain": [
       "numpy.ndarray"
      ]
     },
     "execution_count": 8,
     "metadata": {},
     "output_type": "execute_result"
    }
   ],
   "source": [
    "type(arr)\n"
   ]
  },
  {
   "cell_type": "code",
   "execution_count": 9,
   "id": "9f410b45-ded7-4e9e-a61c-433b212d68a6",
   "metadata": {},
   "outputs": [
    {
     "data": {
      "text/plain": [
       "dtype('float64')"
      ]
     },
     "execution_count": 9,
     "metadata": {},
     "output_type": "execute_result"
    }
   ],
   "source": [
    "arr.dtype"
   ]
  },
  {
   "cell_type": "code",
   "execution_count": 10,
   "id": "d5465309-53f4-4777-af04-b8fe99937747",
   "metadata": {},
   "outputs": [],
   "source": [
    "# convert the array into int\n",
    "\n",
    "arr = np.array([1., 2., 3., 4.],int)"
   ]
  },
  {
   "cell_type": "code",
   "execution_count": 11,
   "id": "3a491bfb-6c3b-4bdb-9b3b-f58048abc603",
   "metadata": {},
   "outputs": [
    {
     "data": {
      "text/plain": [
       "array([1, 2, 3, 4])"
      ]
     },
     "execution_count": 11,
     "metadata": {},
     "output_type": "execute_result"
    }
   ],
   "source": [
    "arr"
   ]
  },
  {
   "cell_type": "code",
   "execution_count": 12,
   "id": "646cc86d-94ca-4e4f-98f6-2619f2f596c5",
   "metadata": {},
   "outputs": [],
   "source": [
    "# array with Zeros \n",
    "\n",
    "arr = np.zeros(5)"
   ]
  },
  {
   "cell_type": "code",
   "execution_count": 13,
   "id": "db062ae8-3e96-4fd9-95f3-d140a5fce868",
   "metadata": {},
   "outputs": [
    {
     "data": {
      "text/plain": [
       "array([0., 0., 0., 0., 0.])"
      ]
     },
     "execution_count": 13,
     "metadata": {},
     "output_type": "execute_result"
    }
   ],
   "source": [
    "arr"
   ]
  },
  {
   "cell_type": "code",
   "execution_count": 14,
   "id": "4f0b68ea-c1c8-4769-924c-61d6ab8333dd",
   "metadata": {},
   "outputs": [],
   "source": [
    "# array with one with int type\n",
    "\n",
    "arr = np.ones(5,dtype = int)"
   ]
  },
  {
   "cell_type": "code",
   "execution_count": 15,
   "id": "f78067e6-c46f-41bb-93bb-75d5d897f313",
   "metadata": {},
   "outputs": [
    {
     "data": {
      "text/plain": [
       "array([1, 1, 1, 1, 1])"
      ]
     },
     "execution_count": 15,
     "metadata": {},
     "output_type": "execute_result"
    }
   ],
   "source": [
    "arr"
   ]
  },
  {
   "cell_type": "code",
   "execution_count": 16,
   "id": "e68f5f92-7552-4f2e-a6eb-1bfd0b4a3af5",
   "metadata": {},
   "outputs": [],
   "source": [
    "# array with random numbers\n",
    "\n",
    "arr = np.random.rand(5,3)"
   ]
  },
  {
   "cell_type": "code",
   "execution_count": 17,
   "id": "cad0e7d3-d977-4e67-908e-dfc1a9d1d610",
   "metadata": {},
   "outputs": [
    {
     "data": {
      "text/plain": [
       "array([[0.28631314, 0.9476801 , 0.34045781],\n",
       "       [0.40540617, 0.36744064, 0.66433254],\n",
       "       [0.60977898, 0.53502993, 0.24230528],\n",
       "       [0.57705846, 0.28238175, 0.90536182],\n",
       "       [0.06223081, 0.70967646, 0.5324502 ]])"
      ]
     },
     "execution_count": 17,
     "metadata": {},
     "output_type": "execute_result"
    }
   ],
   "source": [
    "arr"
   ]
  },
  {
   "cell_type": "code",
   "execution_count": 18,
   "id": "8517ae22-bb91-4313-b01b-4e557cd6ed94",
   "metadata": {},
   "outputs": [],
   "source": [
    "# array with imatrix \n",
    "arr = np.eye(4, dtype = int)"
   ]
  },
  {
   "cell_type": "code",
   "execution_count": 19,
   "id": "3481bfa9-52fc-4122-a453-2d0aed5d0d94",
   "metadata": {},
   "outputs": [
    {
     "data": {
      "text/plain": [
       "array([[1, 0, 0, 0],\n",
       "       [0, 1, 0, 0],\n",
       "       [0, 0, 1, 0],\n",
       "       [0, 0, 0, 1]])"
      ]
     },
     "execution_count": 19,
     "metadata": {},
     "output_type": "execute_result"
    }
   ],
   "source": [
    "arr"
   ]
  },
  {
   "cell_type": "code",
   "execution_count": 20,
   "id": "869214d6-94e8-4c7d-920e-ced4f868f0d9",
   "metadata": {},
   "outputs": [],
   "source": [
    "# Evenly spaced ndarray with the help of np.arange\n",
    "\n",
    "arr = np.arange(10)"
   ]
  },
  {
   "cell_type": "code",
   "execution_count": 21,
   "id": "de05fc8b-c5b9-43da-9eb3-59c2f6090841",
   "metadata": {},
   "outputs": [
    {
     "data": {
      "text/plain": [
       "array([0, 1, 2, 3, 4, 5, 6, 7, 8, 9])"
      ]
     },
     "execution_count": 21,
     "metadata": {},
     "output_type": "execute_result"
    }
   ],
   "source": [
    "arr"
   ]
  },
  {
   "cell_type": "code",
   "execution_count": 22,
   "id": "881878bd-af66-4a3d-bda5-27fcd251e6dc",
   "metadata": {},
   "outputs": [],
   "source": [
    "arr = np.arange(2,10,2)"
   ]
  },
  {
   "cell_type": "code",
   "execution_count": 23,
   "id": "38ca81cc-cf16-42a8-8016-99d001ebf612",
   "metadata": {},
   "outputs": [
    {
     "data": {
      "text/plain": [
       "array([2, 4, 6, 8])"
      ]
     },
     "execution_count": 23,
     "metadata": {},
     "output_type": "execute_result"
    }
   ],
   "source": [
    "arr"
   ]
  },
  {
   "cell_type": "code",
   "execution_count": 24,
   "id": "78891fd5-141c-41a2-aba8-3b12c319d41c",
   "metadata": {},
   "outputs": [
    {
     "name": "stdout",
     "output_type": "stream",
     "text": [
      "array : \n",
      " [[ 1  2  3  4  5]\n",
      " [ 6  7  8  9 10]]\n",
      "dimensions : 2\n"
     ]
    }
   ],
   "source": [
    "# Dimensions of array\n",
    "\n",
    "arr = np.array([[1,2,3,4,5],[6,7,8,9,10]])\n",
    "print('array :','\\n',arr)\n",
    "print('dimensions :',arr.ndim)"
   ]
  },
  {
   "cell_type": "code",
   "execution_count": 25,
   "id": "85d7195f-d5ff-4655-8fe6-b8f8a31c262c",
   "metadata": {},
   "outputs": [
    {
     "name": "stdout",
     "output_type": "stream",
     "text": [
      "array : \n",
      " [[1 2 3 4]\n",
      " [5 9 8 7]]\n",
      "shape : (2, 4)\n",
      "rows : 2\n",
      "columns : 4\n"
     ]
    }
   ],
   "source": [
    "# shape of the array\n",
    "\n",
    "arr = np.array([[1,2,3,4],[5,9,8,7]])\n",
    "print('array :','\\n',arr)\n",
    "print('shape :',arr.shape)\n",
    "print('rows :',arr.shape[0])\n",
    "print('columns :',arr.shape[1])"
   ]
  },
  {
   "cell_type": "code",
   "execution_count": 57,
   "id": "f1ef5448-0090-4cf2-8e2f-3e0b2553d05d",
   "metadata": {},
   "outputs": [
    {
     "name": "stdout",
     "output_type": "stream",
     "text": [
      "size of an array :  10\n",
      "manual determination of size of array :  10\n"
     ]
    }
   ],
   "source": [
    "# size of an array\n",
    "\n",
    "arr = np.array([[1,2,3,4,5],[6,7,8,9,10]])\n",
    "print('size of an array : ',arr.size)\n",
    "print('manual determination of size of array : ',arr.shape[0]*arr.shape[1])"
   ]
  },
  {
   "cell_type": "code",
   "execution_count": 77,
   "id": "91f289ba-039d-410e-8ded-17b6b1011aa4",
   "metadata": {},
   "outputs": [
    {
     "data": {
      "text/plain": [
       "array([[4, 5],\n",
       "       [3, 7],\n",
       "       [9, 8]])"
      ]
     },
     "execution_count": 77,
     "metadata": {},
     "output_type": "execute_result"
    }
   ],
   "source": [
    "# reshape a numpy array\n",
    "\n",
    "arr = np.array([4,5,3,7,9,8])\n",
    "np.reshape(arr,(3,2))"
   ]
  },
  {
   "cell_type": "code",
   "execution_count": 89,
   "id": "e6d08749-9026-49df-a5a3-d29960e091e9",
   "metadata": {},
   "outputs": [
    {
     "name": "stdout",
     "output_type": "stream",
     "text": [
      "orginal shape : (2, 3) \n",
      " [[1 2 3]\n",
      " [4 5 6]]\n",
      "transpose shape : (3, 2) \n",
      " [[1 4]\n",
      " [2 5]\n",
      " [3 6]]\n"
     ]
    }
   ],
   "source": [
    "# transpose of array\n",
    "\n",
    "arr =  np.array([[1,2,3],[4,5,6]])\n",
    "b = np.transpose(arr)\n",
    "print('orginal shape :',arr.shape,'\\n',arr)\n",
    "print('transpose shape :',b.shape,'\\n',b)\n"
   ]
  },
  {
   "cell_type": "code",
   "execution_count": 91,
   "id": "1ca4d964-5ee0-4c59-8cb2-5548ce69dd10",
   "metadata": {},
   "outputs": [
    {
     "name": "stdout",
     "output_type": "stream",
     "text": [
      "[5, 3]\n"
     ]
    }
   ],
   "source": [
    "# indexing and slicing with array\n",
    "# 1-dimension\n",
    "\n",
    "a = ([4,5,6,3,7,8])\n",
    "print(a[1:5:2])"
   ]
  },
  {
   "cell_type": "code",
   "execution_count": 93,
   "id": "c8299c6b-83e2-4ab9-bdb0-49fcbc0f06b3",
   "metadata": {},
   "outputs": [
    {
     "name": "stdout",
     "output_type": "stream",
     "text": [
      "[5, 3, 8]\n"
     ]
    }
   ],
   "source": [
    "a = ([4,5,6,3,7,8])\n",
    "print(a[1:6:2])"
   ]
  },
  {
   "cell_type": "code",
   "execution_count": 97,
   "id": "d1ac3830-9be8-4425-92ab-4dde1a5f8b90",
   "metadata": {},
   "outputs": [
    {
     "name": "stdout",
     "output_type": "stream",
     "text": [
      "first row : [1 2 3 4]\n",
      "second row : [5 6 7 8]\n",
      "second column: [2 6]\n"
     ]
    }
   ],
   "source": [
    "# indexing and slicing with array\n",
    "# 2-dimension\n",
    "\n",
    "arr = np.array([[1,2,3,4],[5,6,7,8]])\n",
    "print('first row :',arr[0])\n",
    "print('second row :',arr[1])\n",
    "print('second column:',arr[:,1])\n"
   ]
  },
  {
   "cell_type": "code",
   "execution_count": 114,
   "id": "9f089934-24ca-41f9-8012-4eeec6515a25",
   "metadata": {},
   "outputs": [
    {
     "name": "stdout",
     "output_type": "stream",
     "text": [
      "subtract: [-4 -3 -2 -1  0  1]\n",
      "multiply: [ 2  4  6  8 10 12]\n",
      "divide: [0.16666667 0.33333333 0.5        0.66666667 0.83333333 1.        ]\n",
      "power: [ 1  4  9 16 25 36]\n",
      "remainder: [1 2 3 4 5 0]\n"
     ]
    }
   ],
   "source": [
    "# Basic arithmetic operators on numpy\n",
    "arr = np.array([1,2,3,4,5,6])\n",
    "print('subtract:',arr-5)\n",
    "print('multiply:',arr* 2)\n",
    "print('divide:',arr/6)\n",
    "print('power:',arr** 2)\n",
    "print('remainder:',arr%6)\n"
   ]
  },
  {
   "cell_type": "code",
   "execution_count": 116,
   "id": "1913e7f3-e467-4104-ba97-039a6331224e",
   "metadata": {},
   "outputs": [
    {
     "name": "stdout",
     "output_type": "stream",
     "text": [
      "[ 5  7  9 11 13]\n",
      "mean: 9.0\n",
      "median: 9.0\n",
      "standard deviation: 2.8284271247461903\n"
     ]
    }
   ],
   "source": [
    "# mean , median , and standard deviation\n",
    "arr = np.arange(5,15,2)\n",
    "print(arr)\n",
    "print('mean:',np.mean(arr))\n",
    "print('median:',np.median(arr))\n",
    "print('standard deviation:',np.std(arr))"
   ]
  },
  {
   "cell_type": "code",
   "execution_count": 118,
   "id": "29734319-11c4-4324-9f0f-962ece9e32f7",
   "metadata": {},
   "outputs": [
    {
     "name": "stdout",
     "output_type": "stream",
     "text": [
      "min: [1 2 3]\n",
      "max: [3 6]\n"
     ]
    }
   ],
   "source": [
    "# min and max values in numpy\n",
    "\n",
    "arr = np.array([[1,2,3],[4,5,6]])\n",
    "print('min:',np.min(arr,axis = 0))\n",
    "print('max:',np.max(arr,axis = 1))\n"
   ]
  },
  {
   "cell_type": "code",
   "execution_count": null,
   "id": "b950b059-5983-4794-b18d-c0f3fd29dda7",
   "metadata": {},
   "outputs": [],
   "source": []
  }
 ],
 "metadata": {
  "kernelspec": {
   "display_name": "Python 3 (ipykernel)",
   "language": "python",
   "name": "python3"
  },
  "language_info": {
   "codemirror_mode": {
    "name": "ipython",
    "version": 3
   },
   "file_extension": ".py",
   "mimetype": "text/x-python",
   "name": "python",
   "nbconvert_exporter": "python",
   "pygments_lexer": "ipython3",
   "version": "3.12.4"
  }
 },
 "nbformat": 4,
 "nbformat_minor": 5
}
